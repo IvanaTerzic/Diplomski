{
 "cells": [
  {
   "cell_type": "code",
   "execution_count": 6,
   "id": "41c3940b",
   "metadata": {},
   "outputs": [
    {
     "name": "stdout",
     "output_type": "stream",
     "text": [
      "                          Adrese\n",
      "0        Ulica Matka Baštijana 7\n",
      "1              Matka Baštijana 7\n",
      "2                  Baštijanova 7\n",
      "3       Ulica Vladimira Nazora 5\n",
      "4             Vladimira Nazora 5\n",
      "5                     Nazorova 5\n",
      "6          Ulica Baruna Trenka 4\n",
      "7                Baruna Trenka 4\n",
      "8                     Trenkova 4\n",
      "9      Ulica kneza Branimira 71E\n",
      "10           kneza Branimira 71E\n",
      "11               Branimirova 71E\n",
      "12  Ulica Vjekoslava Heinzela 70\n",
      "13        Vjekoslava Heinzela 70\n",
      "14            Heinzlova ulica 70\n",
      "15                  Heinzlova 70\n",
      "16      Ulica grada Vukovara 163\n",
      "17          Vukovarska ulica 163\n",
      "18                Vukovarska 163\n",
      "19   Prilaz baruna Filipovića 11\n",
      "20          baruna Filipovića 11\n",
      "21      Prilaz Gjure Deželića 43\n",
      "22             Gjure Deželića 43\n",
      "23                 Deželićeva 43\n"
     ]
    }
   ],
   "source": [
    "import pandas as pd\n",
    "\n",
    "# Lista adresa\n",
    "adrese = [\n",
    "    \"Ulica Matka Baštijana 7\", \"Matka Baštijana 7\", \"Baštijanova 7\",\n",
    "    \"Ulica Vladimira Nazora 5\", \"Vladimira Nazora 5\", \"Nazorova 5\",\n",
    "    \"Ulica Baruna Trenka 4\", \"Baruna Trenka 4\", \"Trenkova 4\",\n",
    "    \"Ulica kneza Branimira 71E\", \"kneza Branimira 71E\", \"Branimirova 71E\",\n",
    "    \"Ulica Vjekoslava Heinzela 70\", \"Vjekoslava Heinzela 70\", \"Heinzlova ulica 70\", \"Heinzlova 70\",\n",
    "    \"Ulica grada Vukovara 163\", \"Vukovarska ulica 163\", \"Vukovarska 163\", \"Prilaz baruna Filipovića 11\",\n",
    "    \"baruna Filipovića 11\", \"Prilaz Gjure Deželića 43\", \"Gjure Deželića 43\",\"Deželićeva 43\"\n",
    "\n",
    "]\n",
    "\n",
    "# Pretvorba liste u DataFrame\n",
    "df_ulice = pd.DataFrame(adrese, columns=['Adrese'])\n",
    "\n",
    "# Prikaz DataFrame-a\n",
    "print(df_ulice)\n",
    "# Spremanje DataFrame-a u CSV datoteku\n",
    "df_ulice.to_csv('../../data/Adrese.csv', index=False)\n"
   ]
  },
  {
   "cell_type": "code",
   "execution_count": null,
   "id": "18969305",
   "metadata": {},
   "outputs": [],
   "source": []
  }
 ],
 "metadata": {
  "kernelspec": {
   "display_name": "Python 3",
   "language": "python",
   "name": "python3"
  },
  "language_info": {
   "codemirror_mode": {
    "name": "ipython",
    "version": 3
   },
   "file_extension": ".py",
   "mimetype": "text/x-python",
   "name": "python",
   "nbconvert_exporter": "python",
   "pygments_lexer": "ipython3",
   "version": "3.10.12"
  }
 },
 "nbformat": 4,
 "nbformat_minor": 5
}
