{
 "cells": [
  {
   "cell_type": "code",
   "execution_count": 2,
   "id": "0fc6f312",
   "metadata": {},
   "outputs": [],
   "source": [
    "import sys\n",
    "sys.path.append('../../src')\n",
    "from modules import *\n",
    "from columns import *"
   ]
  },
  {
   "cell_type": "code",
   "execution_count": 3,
   "id": "07ee11d7",
   "metadata": {},
   "outputs": [],
   "source": [
    "data=pd.read_csv('../../data/PAH_PCB_OCP.csv',index_col=0)"
   ]
  },
  {
   "cell_type": "code",
   "execution_count": 4,
   "id": "29ef0707",
   "metadata": {},
   "outputs": [],
   "source": [
    "report=pd.read_csv('../../data/VEGA_report.csv',index_col=0)"
   ]
  },
  {
   "cell_type": "code",
   "execution_count": 1,
   "id": "4fcf42a4",
   "metadata": {},
   "outputs": [],
   "source": [
    "# OVAKO NIJE DOBRO!\n",
    "\n",
    "#final_kol=PAH_kol+OCP_kol+PCB_kol\n",
    "#TU=[]\n",
    "#for i in range(data.shape[0]):\n",
    "#    LC50_array = report.iloc[:,-1].values\n",
    "#    konc_array = data.loc[[i],final_kol].values\n",
    "#    rezultat = konc_array/LC50_array\n",
    "#    rezultat=rezultat.sum()\n",
    "#    TU.append(rezultat)\n",
    "    \n",
    "#data['TU']=TU"
   ]
  },
  {
   "cell_type": "code",
   "execution_count": null,
   "id": "ac4d5afc",
   "metadata": {},
   "outputs": [],
   "source": [
    "final_kol=PAH_kol+OCP_kol+PCB_kol\n",
    "TU=[]\n",
    "for i in range(data.shape[0]):\n",
    "    TOC_array = report.iloc[:,-1].values\n",
    "    konc_array = data.loc[[i],final_kol].values\n",
    "    rezultat = konc_array/LC50_array\n",
    "    rezultat=rezultat.sum()\n",
    "    TU.append(rezultat)\n",
    "    \n",
    "data['TU']=TU"
   ]
  },
  {
   "cell_type": "code",
   "execution_count": 1,
   "id": "902a878e",
   "metadata": {},
   "outputs": [],
   "source": [
    "# svaka toksičnost, na pojedinacnoj lokaciji je: konc/lc50, TUi ¼ ci LC50\n",
    "# možeš koristiti i log vrijednost\n",
    "# PROVJERI!"
   ]
  },
  {
   "cell_type": "code",
   "execution_count": null,
   "id": "0e42ff88",
   "metadata": {},
   "outputs": [],
   "source": [
    "# TU SITE = mi može biti RIJEKA    log vrijednost TUi    TUSITE ¼ log∑n i¼1TUi"
   ]
  },
  {
   "cell_type": "code",
   "execution_count": null,
   "id": "fdf43715",
   "metadata": {},
   "outputs": [],
   "source": [
    "# TU u sedimentu: TUsed ¼ cs f ocKocLC50\n",
    "# Kp ¼ cs cd ¼ f ocKoc"
   ]
  },
  {
   "cell_type": "code",
   "execution_count": null,
   "id": "0dc567b0",
   "metadata": {},
   "outputs": [],
   "source": [
    "# logKoc ¼ 1:03 \u0002 logKow−0:61"
   ]
  },
  {
   "cell_type": "code",
   "execution_count": null,
   "id": "8df44093",
   "metadata": {},
   "outputs": [],
   "source": [
    "# Kow was calculated by means of ChemAxon's Marvin software (https://www.chemaxon.com)."
   ]
  }
 ],
 "metadata": {
  "kernelspec": {
   "display_name": "Python 3",
   "language": "python",
   "name": "python3"
  },
  "language_info": {
   "codemirror_mode": {
    "name": "ipython",
    "version": 3
   },
   "file_extension": ".py",
   "mimetype": "text/x-python",
   "name": "python",
   "nbconvert_exporter": "python",
   "pygments_lexer": "ipython3",
   "version": "3.10.12"
  }
 },
 "nbformat": 4,
 "nbformat_minor": 5
}
