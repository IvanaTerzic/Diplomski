{
 "cells": [
  {
   "cell_type": "code",
   "execution_count": 1,
   "id": "8ef60c93",
   "metadata": {},
   "outputs": [],
   "source": [
    "import sys\n",
    "sys.path.append('../../src')\n",
    "from modules import *\n",
    "from columns import *\n",
    "sys.path.append('../../src/python')\n",
    "from random_funks import *"
   ]
  },
  {
   "cell_type": "markdown",
   "id": "2f551d36",
   "metadata": {},
   "source": [
    "# Učitavanje podataka za BCF"
   ]
  },
  {
   "cell_type": "code",
   "execution_count": 2,
   "id": "bf20d108",
   "metadata": {},
   "outputs": [],
   "source": [
    "# BCF_CAESAR # log(L/kg)\n",
    "report_BCF_CAESAR = pd.read_csv('../../data/VEGA_QSAR_modeli/report_BCF_CAESAR.txt',index_col=0, sep='\\t')\n",
    "report_BCF_CAESAR = zamijeni_nazive_molekula(report_BCF_CAESAR)\n",
    "BCF_CAESAR = report_BCF_CAESAR['Assessment'].values"
   ]
  },
  {
   "cell_type": "code",
   "execution_count": 3,
   "id": "489ccf48",
   "metadata": {},
   "outputs": [],
   "source": [
    "# BCF_KNN # log(L/kg)\n",
    "report_BCF_KNN = pd.read_csv('../../data/VEGA_QSAR_modeli/report_BCF_KNN.txt',index_col=0, sep='\\t')\n",
    "report_BCF_KNN = zamijeni_nazive_molekula(report_BCF_KNN)\n",
    "BCF_KNN = report_BCF_KNN['Assessment'].values"
   ]
  },
  {
   "cell_type": "code",
   "execution_count": 4,
   "id": "df3675e7",
   "metadata": {},
   "outputs": [],
   "source": [
    "# BCF_MEYLAN # log(L/kg)\n",
    "report_BCF_MEYLAN = pd.read_csv('../../data/VEGA_QSAR_modeli/report_BCF_MEYLAN.txt',index_col=0, sep='\\t')\n",
    "report_BCF_MEYLAN = zamijeni_nazive_molekula(report_BCF_MEYLAN)\n",
    "BCF_MEYLAN = report_BCF_MEYLAN['Assessment'].values"
   ]
  },
  {
   "cell_type": "code",
   "execution_count": 5,
   "id": "8010f4c0",
   "metadata": {},
   "outputs": [],
   "source": [
    "# BCF_ARNOTGOBAS # log(L/kg)\n",
    "report_BCF_ARNOTGOBAS = pd.read_csv('../../data/VEGA_QSAR_modeli/report_BCF_ARNOTGOBAS.txt',index_col=0, sep='\\t')\n",
    "report_BCF_ARNOTGOBAS = zamijeni_nazive_molekula(report_BCF_ARNOTGOBAS)\n",
    "BCF_ARNOTGOBAS = report_BCF_ARNOTGOBAS['Assessment'].values"
   ]
  },
  {
   "cell_type": "code",
   "execution_count": 6,
   "id": "c51bb35b",
   "metadata": {},
   "outputs": [],
   "source": [
    "BCF = pd.DataFrame({'Id': report_BCF_CAESAR['Id'], \n",
    "                     'BCF_CAESAR': BCF_CAESAR, \n",
    "                     'BCF_KNN': BCF_KNN, \n",
    "                     'BCF_MEYLAN': BCF_MEYLAN,\n",
    "                     'BCF_ARNOTGOBAS': BCF_ARNOTGOBAS})\n",
    "BCF.set_index('Id', inplace=True)\n",
    "BCF_modified = extract_numeric_from_df(BCF)  "
   ]
  },
  {
   "cell_type": "markdown",
   "id": "c125e812",
   "metadata": {},
   "source": [
    "# Rangirala svaki BCF posebno i average rank ili"
   ]
  },
  {
   "cell_type": "code",
   "execution_count": 7,
   "id": "0ef501b4",
   "metadata": {},
   "outputs": [],
   "source": [
    "# Rangiranje vrijednosti za svaki model\n",
    "BCF_modified['BCF_CAESAR_rank'] = BCF_modified['BCF_CAESAR'].rank(ascending=False) # PRVI RANK DOBIJE NAJVEĆI log(l/kg)\n",
    "BCF_modified['BCF_KNN_rank'] = BCF_modified['BCF_KNN'].rank(ascending=False)\n",
    "BCF_modified['BCF_MEYLAN_rank'] = BCF_modified['BCF_MEYLAN'].rank(ascending=False)\n",
    "BCF_modified['BCF_ARNOTGOBAS_rank'] = BCF_modified['BCF_ARNOTGOBAS'].rank(ascending=False)\n",
    "\n",
    "# Izračunavanje prosječnog ranga\n",
    "average_rank = (BCF_modified['BCF_CAESAR_rank'] + \n",
    "                BCF_modified['BCF_KNN_rank'] + \n",
    "                BCF_modified['BCF_MEYLAN_rank'] +\n",
    "                BCF_modified['BCF_ARNOTGOBAS_rank']) / 4\n",
    "\n",
    "BCF_modified['BCF_average_rank_1'] = average_rank"
   ]
  },
  {
   "cell_type": "markdown",
   "id": "408f796c",
   "metadata": {},
   "source": [
    "# ili prvo napravim average i onda rank"
   ]
  },
  {
   "cell_type": "code",
   "execution_count": 8,
   "id": "a18261c6",
   "metadata": {},
   "outputs": [],
   "source": [
    "# Izračunavanje prosječnog log(L/kg)\n",
    "average_rank = (BCF_modified['BCF_CAESAR'] + \n",
    "                BCF_modified['BCF_KNN'] + \n",
    "                BCF_modified['BCF_MEYLAN'] +\n",
    "                BCF_modified['BCF_ARNOTGOBAS']) / 4\n",
    "\n",
    "BCF_modified['BCF_average_rank_2'] = average_rank.rank(ascending=False)"
   ]
  },
  {
   "cell_type": "markdown",
   "id": "019baf74",
   "metadata": {},
   "source": [
    "# Učitavanje podataka za PERZISTENTNOST"
   ]
  },
  {
   "cell_type": "code",
   "execution_count": 9,
   "id": "cdf336da",
   "metadata": {},
   "outputs": [],
   "source": [
    "report=pd.read_csv('../../data/VEGA_report.csv',index_col=0)"
   ]
  },
  {
   "cell_type": "code",
   "execution_count": 10,
   "id": "d8559bee",
   "metadata": {},
   "outputs": [],
   "source": [
    "# REDYBIO_IRFMN # \n",
    "report_READYBIO_IRFMN = pd.read_csv('../../data/VEGA_QSAR_modeli/report_READYBIO_IRFMN.txt',index_col=0, sep='\\t')\n",
    "report_READYBIO_IRFMN = zamijeni_nazive_molekula(report_READYBIO_IRFMN)\n",
    "READYBIO_IRFMN = report_READYBIO_IRFMN['Assessment'].values"
   ]
  },
  {
   "cell_type": "code",
   "execution_count": 11,
   "id": "1ba1d35e",
   "metadata": {},
   "outputs": [],
   "source": [
    "# Persistence (sediment) quantitative model (IRFMN) # days\n",
    "report_PERS_SED_QUANT = pd.read_csv('../../data/VEGA_QSAR_modeli/report_PERS_SED_QUANT.txt',index_col=0, sep='\\t')\n",
    "report_PERS_SED_QUANT = zamijeni_nazive_molekula(report_PERS_SED_QUANT)\n",
    "PERS_SED_QUANT = report_PERS_SED_QUANT['Assessment'].values"
   ]
  },
  {
   "cell_type": "code",
   "execution_count": 12,
   "id": "a9b2ed00",
   "metadata": {},
   "outputs": [],
   "source": [
    "# Persistence (sediment) model (IRFMN) # \n",
    "report_PERS_SED = pd.read_csv('../../data/VEGA_QSAR_modeli/report_PERS_SED.txt',index_col=0, sep='\\t')\n",
    "report_PERS_SED = zamijeni_nazive_molekula(report_PERS_SED)\n",
    "PERS_SED = report_PERS_SED['Assessment'].values"
   ]
  },
  {
   "cell_type": "code",
   "execution_count": 13,
   "id": "3dc52926",
   "metadata": {},
   "outputs": [],
   "source": [
    "# Persistence (water) quantitative model (IRFMN) # days\n",
    "report_PERS_WATER_QUANT = pd.read_csv('../../data/VEGA_QSAR_modeli/report_PERS_WATER_QUANT.txt',index_col=0, sep='\\t')\n",
    "report_PERS_WATER_QUANT = zamijeni_nazive_molekula(report_PERS_WATER_QUANT )\n",
    "PERS_WATER_QUANT  = report_PERS_WATER_QUANT ['Assessment'].values"
   ]
  },
  {
   "cell_type": "code",
   "execution_count": 14,
   "id": "7e967315",
   "metadata": {},
   "outputs": [],
   "source": [
    "# Persistence (water) model (IRFMN) # \n",
    "report_PERS_WAT = pd.read_csv('../../data/VEGA_QSAR_modeli/report_PERS_WAT.txt',index_col=0, sep='\\t')\n",
    "report_PERS_WAT = zamijeni_nazive_molekula(report_PERS_WAT)\n",
    "PERS_WAT = report_PERS_WAT['Assessment'].values"
   ]
  },
  {
   "cell_type": "code",
   "execution_count": 15,
   "id": "c8dc82ed",
   "metadata": {},
   "outputs": [],
   "source": [
    "# Air Half-Life (IRFMN-CORAL) # h\n",
    "report_PERS_AIR_CORAL = pd.read_csv('../../data/VEGA_QSAR_modeli/report_PERS_AIR_CORAL.txt',index_col=0, sep='\\t')\n",
    "report_PERS_AIR_CORAL = zamijeni_nazive_molekula(report_PERS_AIR_CORAL)\n",
    "PERS_AIR_CORAL = report_PERS_AIR_CORAL['Assessment'].values"
   ]
  },
  {
   "cell_type": "code",
   "execution_count": 16,
   "id": "8cd4a837",
   "metadata": {},
   "outputs": [],
   "source": [
    "PERZ = pd.DataFrame({'Id': report_READYBIO_IRFMN['Id'],\n",
    "                     'READYBIO_IRFMN': READYBIO_IRFMN, \n",
    "                     'PERS_SED_QUANT': PERS_SED_QUANT, \n",
    "                     'PERS_SED': PERS_SED,\n",
    "                     'PERS_WATER_QUANT': PERS_WATER_QUANT,\n",
    "                    'PERS_WAT': PERS_WAT,\n",
    "                    'PERS_AIR_CORAL': PERS_AIR_CORAL})\n",
    "PERZ.set_index('Id', inplace=True)\n",
    "PERZ_modified = extract_numeric_from_df(PERZ)  # JE LI BOLJE MOŽDA OSTAVITI SVE PA DA RANGIRA I LOW, MODERATE I GOOD SLAGANJE?"
   ]
  },
  {
   "cell_type": "markdown",
   "id": "0cf3c056",
   "metadata": {},
   "source": [
    "# Rangirala svaki PERZ posebno i average rank"
   ]
  },
  {
   "cell_type": "code",
   "execution_count": 17,
   "id": "3306f62f",
   "metadata": {},
   "outputs": [],
   "source": [
    "# Rangiranje vrijednosti za svaki model\n",
    "PERZ_modified['READYBIO_IRFMN_rank'] = PERZ_modified['READYBIO_IRFMN'].rank(ascending=False) # PRVI RANK DOBIJE NAJVEĆI \n",
    "PERZ_modified['PERS_SED_QUANT_rank'] = PERZ_modified['PERS_SED_QUANT'].rank(ascending=False)\n",
    "PERZ_modified['PERS_SED_rank'] = PERZ_modified['PERS_SED'].rank(ascending=False)\n",
    "PERZ_modified['PERS_WATER_QUANT_rank'] = PERZ_modified['PERS_WATER_QUANT'].rank(ascending=False)\n",
    "PERZ_modified['PERS_WAT_rank'] = PERZ_modified['PERS_WAT'].rank(ascending=False)\n",
    "PERZ_modified['PERS_AIR_CORAL_rank'] = PERZ_modified['PERS_AIR_CORAL'].rank(ascending=False)\n",
    "\n",
    "\n",
    "# Izračunavanje prosječnog ranga\n",
    "average_rank = (PERZ_modified['READYBIO_IRFMN_rank'] + \n",
    "                PERZ_modified['PERS_SED_QUANT_rank'] + \n",
    "                PERZ_modified['PERS_SED_rank'] +\n",
    "                PERZ_modified['PERS_WATER_QUANT_rank'] +\n",
    "               PERZ_modified['PERS_WAT_rank'] +\n",
    "               PERZ_modified['PERS_AIR_CORAL_rank']) / 6\n",
    "\n",
    "PERZ_modified['PERZ_average_rank_1'] = average_rank"
   ]
  },
  {
   "cell_type": "markdown",
   "id": "c1643c10",
   "metadata": {},
   "source": [
    "# Učitavanje podataka za TOKSIČNOST"
   ]
  },
  {
   "cell_type": "markdown",
   "id": "219c17ea",
   "metadata": {},
   "source": [
    "## ukupni TU po lokacijama"
   ]
  },
  {
   "cell_type": "code",
   "execution_count": 18,
   "id": "c5f7c2b9",
   "metadata": {},
   "outputs": [],
   "source": [
    "toks=pd.read_csv('../../data/VEGA_QSAR_modeli/LC50_toks_average.csv',index_col=0)\n",
    "toks = toks['TU_site_average_rank']"
   ]
  },
  {
   "cell_type": "code",
   "execution_count": 19,
   "id": "a47b0666",
   "metadata": {},
   "outputs": [],
   "source": [
    "# ovo mi ne treba ukupni nego za svaku molekulu toksičnost! TU_sed od sva 3 modela"
   ]
  },
  {
   "cell_type": "markdown",
   "id": "847c4d9a",
   "metadata": {},
   "source": [
    "## TU_sed za 35 molekula na 28 lokacija"
   ]
  },
  {
   "cell_type": "code",
   "execution_count": 20,
   "id": "8370cab6",
   "metadata": {},
   "outputs": [],
   "source": [
    "toks_rank=pd.read_csv('../../data/VEGA_QSAR_modeli/toks_rank.csv')"
   ]
  },
  {
   "cell_type": "code",
   "execution_count": 21,
   "id": "6850dc01",
   "metadata": {},
   "outputs": [],
   "source": [
    "toks_rank['Id'] = PERZ.index\n",
    "toks_rank.set_index('Id', inplace=True)"
   ]
  },
  {
   "cell_type": "code",
   "execution_count": 22,
   "id": "9090a06c",
   "metadata": {},
   "outputs": [],
   "source": [
    "# Izračunavanje prosječnog ranga\n",
    "average_rank = (toks_rank['TU_sed_DM_mean'] + \n",
    "                toks_rank['TU_sed_FM_mean'] + \n",
    "                toks_rank['TU_sed_FA_mean']) / 3\n",
    "\n",
    "toks_rank['average_rank']=average_rank"
   ]
  },
  {
   "cell_type": "markdown",
   "id": "4f80d309",
   "metadata": {},
   "source": [
    "# PBT SCORE AVERAGE RANK"
   ]
  },
  {
   "cell_type": "code",
   "execution_count": 23,
   "id": "cb7f98d8",
   "metadata": {},
   "outputs": [],
   "source": [
    "P = PERZ_modified['PERZ_average_rank_1']\n",
    "B = BCF_modified['BCF_average_rank_1']\n",
    "T = toks_rank['average_rank']"
   ]
  },
  {
   "cell_type": "code",
   "execution_count": 24,
   "id": "5925d6d0",
   "metadata": {},
   "outputs": [],
   "source": [
    "PBT_score = pd.DataFrame({'P': P, \n",
    "                          'B': B, \n",
    "                          'T': T})"
   ]
  },
  {
   "cell_type": "code",
   "execution_count": 25,
   "id": "54e15e5a",
   "metadata": {},
   "outputs": [
    {
     "data": {
      "text/html": [
       "<div>\n",
       "<style scoped>\n",
       "    .dataframe tbody tr th:only-of-type {\n",
       "        vertical-align: middle;\n",
       "    }\n",
       "\n",
       "    .dataframe tbody tr th {\n",
       "        vertical-align: top;\n",
       "    }\n",
       "\n",
       "    .dataframe thead th {\n",
       "        text-align: right;\n",
       "    }\n",
       "</style>\n",
       "<table border=\"1\" class=\"dataframe\">\n",
       "  <thead>\n",
       "    <tr style=\"text-align: right;\">\n",
       "      <th></th>\n",
       "      <th>P</th>\n",
       "      <th>B</th>\n",
       "      <th>T</th>\n",
       "      <th>score_PBT</th>\n",
       "    </tr>\n",
       "    <tr>\n",
       "      <th>Id</th>\n",
       "      <th></th>\n",
       "      <th></th>\n",
       "      <th></th>\n",
       "      <th></th>\n",
       "    </tr>\n",
       "  </thead>\n",
       "  <tbody>\n",
       "    <tr>\n",
       "      <th>Flu</th>\n",
       "      <td>23.833333</td>\n",
       "      <td>29.250</td>\n",
       "      <td>1.369048</td>\n",
       "      <td>18.150794</td>\n",
       "    </tr>\n",
       "    <tr>\n",
       "      <th>Pir</th>\n",
       "      <td>23.833333</td>\n",
       "      <td>30.000</td>\n",
       "      <td>3.797619</td>\n",
       "      <td>19.210317</td>\n",
       "    </tr>\n",
       "    <tr>\n",
       "      <th>BaA</th>\n",
       "      <td>23.833333</td>\n",
       "      <td>33.250</td>\n",
       "      <td>8.464286</td>\n",
       "      <td>21.849206</td>\n",
       "    </tr>\n",
       "    <tr>\n",
       "      <th>Kri</th>\n",
       "      <td>23.833333</td>\n",
       "      <td>33.250</td>\n",
       "      <td>6.547619</td>\n",
       "      <td>21.210317</td>\n",
       "    </tr>\n",
       "    <tr>\n",
       "      <th>BjF</th>\n",
       "      <td>18.500000</td>\n",
       "      <td>24.500</td>\n",
       "      <td>6.964286</td>\n",
       "      <td>16.654762</td>\n",
       "    </tr>\n",
       "    <tr>\n",
       "      <th>BbF</th>\n",
       "      <td>19.000000</td>\n",
       "      <td>25.000</td>\n",
       "      <td>2.619048</td>\n",
       "      <td>15.539683</td>\n",
       "    </tr>\n",
       "    <tr>\n",
       "      <th>BkF</th>\n",
       "      <td>23.833333</td>\n",
       "      <td>24.500</td>\n",
       "      <td>8.261905</td>\n",
       "      <td>18.865079</td>\n",
       "    </tr>\n",
       "    <tr>\n",
       "      <th>BaP</th>\n",
       "      <td>23.833333</td>\n",
       "      <td>26.500</td>\n",
       "      <td>7.547619</td>\n",
       "      <td>19.293651</td>\n",
       "    </tr>\n",
       "    <tr>\n",
       "      <th>DahA</th>\n",
       "      <td>22.916667</td>\n",
       "      <td>24.500</td>\n",
       "      <td>12.952381</td>\n",
       "      <td>20.123016</td>\n",
       "    </tr>\n",
       "    <tr>\n",
       "      <th>BghiP</th>\n",
       "      <td>22.916667</td>\n",
       "      <td>28.000</td>\n",
       "      <td>8.107143</td>\n",
       "      <td>19.674603</td>\n",
       "    </tr>\n",
       "    <tr>\n",
       "      <th>IP</th>\n",
       "      <td>18.833333</td>\n",
       "      <td>25.875</td>\n",
       "      <td>5.630952</td>\n",
       "      <td>16.779762</td>\n",
       "    </tr>\n",
       "    <tr>\n",
       "      <th>HCB</th>\n",
       "      <td>18.500000</td>\n",
       "      <td>15.250</td>\n",
       "      <td>22.369048</td>\n",
       "      <td>18.706349</td>\n",
       "    </tr>\n",
       "    <tr>\n",
       "      <th>α-HCH</th>\n",
       "      <td>16.250000</td>\n",
       "      <td>30.000</td>\n",
       "      <td>11.267857</td>\n",
       "      <td>19.172619</td>\n",
       "    </tr>\n",
       "    <tr>\n",
       "      <th>β-HCH</th>\n",
       "      <td>16.250000</td>\n",
       "      <td>30.000</td>\n",
       "      <td>12.958333</td>\n",
       "      <td>19.736111</td>\n",
       "    </tr>\n",
       "    <tr>\n",
       "      <th>γ-HCH</th>\n",
       "      <td>16.250000</td>\n",
       "      <td>30.000</td>\n",
       "      <td>10.821429</td>\n",
       "      <td>19.023810</td>\n",
       "    </tr>\n",
       "    <tr>\n",
       "      <th>DDE</th>\n",
       "      <td>22.833333</td>\n",
       "      <td>11.750</td>\n",
       "      <td>16.178571</td>\n",
       "      <td>16.920635</td>\n",
       "    </tr>\n",
       "    <tr>\n",
       "      <th>DDD</th>\n",
       "      <td>13.583333</td>\n",
       "      <td>17.000</td>\n",
       "      <td>24.797619</td>\n",
       "      <td>18.460317</td>\n",
       "    </tr>\n",
       "    <tr>\n",
       "      <th>DDT</th>\n",
       "      <td>23.166667</td>\n",
       "      <td>10.500</td>\n",
       "      <td>18.142857</td>\n",
       "      <td>17.269841</td>\n",
       "    </tr>\n",
       "    <tr>\n",
       "      <th>PCB-28</th>\n",
       "      <td>23.083333</td>\n",
       "      <td>15.750</td>\n",
       "      <td>15.476190</td>\n",
       "      <td>18.103175</td>\n",
       "    </tr>\n",
       "    <tr>\n",
       "      <th>PCB-52</th>\n",
       "      <td>17.083333</td>\n",
       "      <td>9.500</td>\n",
       "      <td>19.369048</td>\n",
       "      <td>15.317460</td>\n",
       "    </tr>\n",
       "    <tr>\n",
       "      <th>PCB-101</th>\n",
       "      <td>19.250000</td>\n",
       "      <td>6.250</td>\n",
       "      <td>22.440476</td>\n",
       "      <td>15.980159</td>\n",
       "    </tr>\n",
       "    <tr>\n",
       "      <th>PCB-118</th>\n",
       "      <td>13.833333</td>\n",
       "      <td>11.375</td>\n",
       "      <td>23.523810</td>\n",
       "      <td>16.244048</td>\n",
       "    </tr>\n",
       "    <tr>\n",
       "      <th>PCB-153</th>\n",
       "      <td>13.333333</td>\n",
       "      <td>4.000</td>\n",
       "      <td>27.285714</td>\n",
       "      <td>14.873016</td>\n",
       "    </tr>\n",
       "    <tr>\n",
       "      <th>PCB-138</th>\n",
       "      <td>12.833333</td>\n",
       "      <td>10.750</td>\n",
       "      <td>26.904762</td>\n",
       "      <td>16.829365</td>\n",
       "    </tr>\n",
       "    <tr>\n",
       "      <th>PCB-180</th>\n",
       "      <td>18.250000</td>\n",
       "      <td>15.125</td>\n",
       "      <td>33.250000</td>\n",
       "      <td>22.208333</td>\n",
       "    </tr>\n",
       "    <tr>\n",
       "      <th>PCB-74</th>\n",
       "      <td>16.583333</td>\n",
       "      <td>7.625</td>\n",
       "      <td>20.357143</td>\n",
       "      <td>14.855159</td>\n",
       "    </tr>\n",
       "    <tr>\n",
       "      <th>PCB-60</th>\n",
       "      <td>16.750000</td>\n",
       "      <td>9.750</td>\n",
       "      <td>20.821429</td>\n",
       "      <td>15.773810</td>\n",
       "    </tr>\n",
       "    <tr>\n",
       "      <th>PCB-123</th>\n",
       "      <td>13.666667</td>\n",
       "      <td>6.625</td>\n",
       "      <td>25.464286</td>\n",
       "      <td>15.251984</td>\n",
       "    </tr>\n",
       "    <tr>\n",
       "      <th>PCB-114</th>\n",
       "      <td>14.250000</td>\n",
       "      <td>6.625</td>\n",
       "      <td>24.642857</td>\n",
       "      <td>15.172619</td>\n",
       "    </tr>\n",
       "    <tr>\n",
       "      <th>PCB-105</th>\n",
       "      <td>14.250000</td>\n",
       "      <td>12.500</td>\n",
       "      <td>24.428571</td>\n",
       "      <td>17.059524</td>\n",
       "    </tr>\n",
       "    <tr>\n",
       "      <th>PCB-167</th>\n",
       "      <td>13.000000</td>\n",
       "      <td>10.750</td>\n",
       "      <td>30.452381</td>\n",
       "      <td>18.067460</td>\n",
       "    </tr>\n",
       "    <tr>\n",
       "      <th>PCB-156</th>\n",
       "      <td>13.500000</td>\n",
       "      <td>10.750</td>\n",
       "      <td>29.428571</td>\n",
       "      <td>17.892857</td>\n",
       "    </tr>\n",
       "    <tr>\n",
       "      <th>PCB-157</th>\n",
       "      <td>13.166667</td>\n",
       "      <td>11.000</td>\n",
       "      <td>30.750000</td>\n",
       "      <td>18.305556</td>\n",
       "    </tr>\n",
       "    <tr>\n",
       "      <th>PCB-170</th>\n",
       "      <td>12.500000</td>\n",
       "      <td>16.375</td>\n",
       "      <td>32.785714</td>\n",
       "      <td>20.553571</td>\n",
       "    </tr>\n",
       "    <tr>\n",
       "      <th>PCB-189</th>\n",
       "      <td>12.666667</td>\n",
       "      <td>16.125</td>\n",
       "      <td>33.821429</td>\n",
       "      <td>20.871032</td>\n",
       "    </tr>\n",
       "  </tbody>\n",
       "</table>\n",
       "</div>"
      ],
      "text/plain": [
       "                 P       B          T  score_PBT\n",
       "Id                                              \n",
       "Flu      23.833333  29.250   1.369048  18.150794\n",
       "Pir      23.833333  30.000   3.797619  19.210317\n",
       "BaA      23.833333  33.250   8.464286  21.849206\n",
       "Kri      23.833333  33.250   6.547619  21.210317\n",
       "BjF      18.500000  24.500   6.964286  16.654762\n",
       "BbF      19.000000  25.000   2.619048  15.539683\n",
       "BkF      23.833333  24.500   8.261905  18.865079\n",
       "BaP      23.833333  26.500   7.547619  19.293651\n",
       "DahA     22.916667  24.500  12.952381  20.123016\n",
       "BghiP    22.916667  28.000   8.107143  19.674603\n",
       "IP       18.833333  25.875   5.630952  16.779762\n",
       "HCB      18.500000  15.250  22.369048  18.706349\n",
       "α-HCH    16.250000  30.000  11.267857  19.172619\n",
       "β-HCH    16.250000  30.000  12.958333  19.736111\n",
       "γ-HCH    16.250000  30.000  10.821429  19.023810\n",
       "DDE      22.833333  11.750  16.178571  16.920635\n",
       "DDD      13.583333  17.000  24.797619  18.460317\n",
       "DDT      23.166667  10.500  18.142857  17.269841\n",
       "PCB-28   23.083333  15.750  15.476190  18.103175\n",
       "PCB-52   17.083333   9.500  19.369048  15.317460\n",
       "PCB-101  19.250000   6.250  22.440476  15.980159\n",
       "PCB-118  13.833333  11.375  23.523810  16.244048\n",
       "PCB-153  13.333333   4.000  27.285714  14.873016\n",
       "PCB-138  12.833333  10.750  26.904762  16.829365\n",
       "PCB-180  18.250000  15.125  33.250000  22.208333\n",
       "PCB-74   16.583333   7.625  20.357143  14.855159\n",
       "PCB-60   16.750000   9.750  20.821429  15.773810\n",
       "PCB-123  13.666667   6.625  25.464286  15.251984\n",
       "PCB-114  14.250000   6.625  24.642857  15.172619\n",
       "PCB-105  14.250000  12.500  24.428571  17.059524\n",
       "PCB-167  13.000000  10.750  30.452381  18.067460\n",
       "PCB-156  13.500000  10.750  29.428571  17.892857\n",
       "PCB-157  13.166667  11.000  30.750000  18.305556\n",
       "PCB-170  12.500000  16.375  32.785714  20.553571\n",
       "PCB-189  12.666667  16.125  33.821429  20.871032"
      ]
     },
     "execution_count": 25,
     "metadata": {},
     "output_type": "execute_result"
    }
   ],
   "source": [
    "PBT_score['score_PBT'] = (PBT_score['P'] + \n",
    "                          PBT_score['B'] + \n",
    "                          PBT_score['T']) / 3\n",
    "\n",
    "PBT_score # kakvog smisla imaju ovi brojevi? nije mi ovo sjelo\n",
    "           # što je manji PBT_score to je toksičnije/gore"
   ]
  },
  {
   "cell_type": "markdown",
   "id": "79965460",
   "metadata": {},
   "source": [
    "# KONCENTRACIJA * PBT_score"
   ]
  },
  {
   "cell_type": "code",
   "execution_count": 26,
   "id": "66efc2ad",
   "metadata": {},
   "outputs": [],
   "source": [
    "# relativni PBT_score po lokacijama"
   ]
  },
  {
   "cell_type": "code",
   "execution_count": 27,
   "id": "dcb5bf0c",
   "metadata": {},
   "outputs": [],
   "source": [
    "data = pd.read_csv('../../data/PAH_PCB_OCP.csv',index_col=0)"
   ]
  },
  {
   "cell_type": "code",
   "execution_count": 28,
   "id": "aabe438e",
   "metadata": {},
   "outputs": [],
   "source": [
    "konc = data.iloc[:,5:40].T\n",
    "nazivi_lokacija = [dodaj_nazive_lokacija_i_rijeka(data, i, i) for i in range(len(konc.columns))]\n",
    "konc.columns = nazivi_lokacija"
   ]
  },
  {
   "cell_type": "code",
   "execution_count": 33,
   "id": "50964358",
   "metadata": {},
   "outputs": [],
   "source": [
    "PBT_rel=konc.multiply(PBT_score['score_PBT'], axis='index')"
   ]
  },
  {
   "cell_type": "code",
   "execution_count": 42,
   "id": "133f4f0b",
   "metadata": {},
   "outputs": [
    {
     "data": {
      "text/plain": [
       "array([[<Axes: title={'center': 'Kuželj-Gorski kotar - Kupa'}>,\n",
       "        <Axes: title={'center': 'Iševnica- Gorski kotar - Kupica'}>,\n",
       "        <Axes: title={'center': 'centar Karlovca - Kupa'}>,\n",
       "        <Axes: title={'center': 'ušće u Kupu - Korana'}>,\n",
       "        <Axes: title={'center': 'Zagrebačka županija - Kupčina'}>],\n",
       "       [<Axes: title={'center': 'Stubičke Toplice - Vidak'}>,\n",
       "        <Axes: title={'center': ' Istra - Mirna'}>,\n",
       "        <Axes: title={'center': ' Istra - Mala Huba'}>,\n",
       "        <Axes: title={'center': ' Istra - Boljunčica'}>,\n",
       "        <Axes: title={'center': 'Jurovo - Jurovski Brod (utok Lahinje - lijevi pritok) - Kupa '}>],\n",
       "       [<Axes: title={'center': 'Ozalj - Kupa '}>,\n",
       "        <Axes: title={'center': 'Metković-Doljani - Neretva'}>,\n",
       "        <Axes: title={'center': 'Metković-Unka - Neretva'}>,\n",
       "        <Axes: title={'center': 'Metković-most - Neretva'}>,\n",
       "        <Axes: title={'center': 'ušće - Neretva'}>],\n",
       "       [<Axes: title={'center': 'Mijači - Orljava'}>,\n",
       "        <Axes: title={'center': 'Striježevica - Brzaja'}>,\n",
       "        <Axes: title={'center': 'Petrinja (kupalište) - Kupa'}>,\n",
       "        <Axes: title={'center': 'Sisak (Stari grad) - Kupa'}>,\n",
       "        <Axes: title={'center': 'Sisak (Stari grad) - Sava'}>],\n",
       "       [<Axes: title={'center': 'Zagreb (Savski Kamenji - toplana) - Sava'}>,\n",
       "        <Axes: title={'center': 'Prošćansko jezero - Plitvička jezera '}>,\n",
       "        <Axes: title={'center': 'Belavići-kamp Slapić - Mrežnica'}>,\n",
       "        <Axes: title={'center': 'Duga Resa-gradsko kupalište - Mrežnica'}>,\n",
       "        <Axes: title={'center': 'Severin na Kupi-kupalište Klanac - Kupa'}>],\n",
       "       [<Axes: title={'center': 'Ozalj-gradsko kupalište - Kupa'}>,\n",
       "        <Axes: title={'center': 'Slunj-kupalište Rastoke - Korana'}>,\n",
       "        <Axes: title={'center': 'Karlovac-Foginovo kupalište - Korana'}>,\n",
       "        <Axes: >, <Axes: >]], dtype=object)"
      ]
     },
     "execution_count": 42,
     "metadata": {},
     "output_type": "execute_result"
    },
    {
     "data": {
      "image/png": "[encoded data removed]",
      "text/plain": [
       "<Figure size 1440x1440 with 30 Axes>"
      ]
     },
     "metadata": {
      "needs_background": "light"
     },
     "output_type": "display_data"
    }
   ],
   "source": [
    "PBT_rel.hist(figsize=(20, 20))"
   ]
  },
  {
   "cell_type": "code",
   "execution_count": 36,
   "id": "830e49f8",
   "metadata": {},
   "outputs": [
    {
     "name": "stderr",
     "output_type": "stream",
     "text": [
      "/home/ivana/repozitorij/diplomski/ivana_dip/dipenv/lib/python3.10/site-packages/pandas/core/internals/blocks.py:366: RuntimeWarning: divide by zero encountered in log10\n",
      "  result = func(self.values, **kwargs)\n"
     ]
    }
   ],
   "source": [
    "log_relpbt=np.log10(PBT_rel)"
   ]
  },
  {
   "cell_type": "code",
   "execution_count": null,
   "id": "431af121",
   "metadata": {},
   "outputs": [],
   "source": []
  },
  {
   "cell_type": "code",
   "execution_count": null,
   "id": "838a0914",
   "metadata": {},
   "outputs": [],
   "source": []
  }
 ],
 "metadata": {
  "kernelspec": {
   "display_name": "Python 3",
   "language": "python",
   "name": "python3"
  },
  "language_info": {
   "codemirror_mode": {
    "name": "ipython",
    "version": 3
   },
   "file_extension": ".py",
   "mimetype": "text/x-python",
   "name": "python",
   "nbconvert_exporter": "python",
   "pygments_lexer": "ipython3",
   "version": "3.10.12"
  }
 },
 "nbformat": 4,
 "nbformat_minor": 5
}
