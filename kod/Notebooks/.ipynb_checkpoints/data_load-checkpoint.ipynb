{
 "cells": [
  {
   "cell_type": "code",
   "execution_count": 2,
   "id": "f99ac9ad-f8e6-4ab2-975d-83eb20c212e3",
   "metadata": {},
   "outputs": [],
   "source": [
    "import sys\n",
    "sys.path.append('../../src')\n",
    "from modules import *\n",
    "from columns import *"
   ]
  },
  {
   "cell_type": "code",
   "execution_count": 3,
   "id": "b45818ab-c7fb-4dbd-8359-06b308a2954e",
   "metadata": {},
   "outputs": [],
   "source": [
    "data=pd.read_csv('../../data/PCB_OCP_PAH_TOC_popis_sediment_ivana_1.csv',index_col=0)"
   ]
  },
  {
   "cell_type": "markdown",
   "id": "e6cd9533",
   "metadata": {},
   "source": [
    "# Zamjena NaN sa 0,02 ng/g"
   ]
  },
  {
   "cell_type": "code",
   "execution_count": 4,
   "id": "142d51b3",
   "metadata": {},
   "outputs": [],
   "source": [
    "data=data.replace(np.nan,0.02)\n",
    "data=data.replace('',0.02)"
   ]
  },
  {
   "cell_type": "code",
   "execution_count": 5,
   "id": "bd75894a",
   "metadata": {},
   "outputs": [],
   "source": [
    "data.columns = data.columns.str.replace(\"ng/g\", \"\")"
   ]
  },
  {
   "cell_type": "code",
   "execution_count": 6,
   "id": "eddb358d",
   "metadata": {},
   "outputs": [],
   "source": [
    "data.to_csv('../../data/PAH_PCB_OCP.csv')"
   ]
  },
  {
   "cell_type": "code",
   "execution_count": 7,
   "id": "d2785ad3",
   "metadata": {},
   "outputs": [],
   "source": [
    "report=pd.read_csv('../../data/VEGA_report.csv',index_col=0)"
   ]
  },
  {
   "cell_type": "code",
   "execution_count": 8,
   "id": "48fd585f",
   "metadata": {},
   "outputs": [],
   "source": [
    "report['tId'] = report['tId'].replace(['Molecule 1','Molecule 2','Molecule 3','Molecule 4','Molecule 5','Molecule 6',\n",
    "                                       'Molecule 7','Molecule 8','Molecule 9','Molecule 10','Molecule 11','Molecule 12',\n",
    "                                       'Molecule 13','Molecule 14','Molecule 15','Molecule 16','Molecule 17','Molecule 18',\n",
    "                                       'Molecule 19','Molecule 20','Molecule 21','Molecule 22','Molecule 23','Molecule 24',\n",
    "                                       'Molecule 25','Molecule 26','Molecule 27','Molecule 28','Molecule 29','Molecule 30',\n",
    "                                       'Molecule 31','Molecule 32','Molecule 33','Molecule 34','Molecule 35'], ['Flu', 'Pir',\n",
    "       'BaA', 'Kri', 'BjF', 'BbF', 'BkF', 'BaP',\n",
    "       'DahA', 'BghiP', 'IP', 'HCB', 'α-HCH', 'β-HCH', 'γ-HCH',\n",
    "       'DDE', 'DDD', 'DDT', 'PCB-28', 'PCB-52', 'PCB-101', 'PCB-118',\n",
    "       'PCB-153', 'PCB-138', 'PCB-180', 'PCB-74', 'PCB-60', 'PCB-123',\n",
    "       'PCB-114', 'PCB-105', 'PCB-167', 'PCB-156', 'PCB-157', 'PCB-170',\n",
    "       'PCB-189'])\n",
    "report['tId'] = report['tId'].str.replace(\"ng/g\", \"\")"
   ]
  },
  {
   "cell_type": "code",
   "execution_count": 9,
   "id": "415b936f",
   "metadata": {},
   "outputs": [],
   "source": [
    "report.to_csv('../../data/VEGA_report.csv')"
   ]
  },
  {
   "cell_type": "code",
   "execution_count": null,
   "id": "eb3ab8ef",
   "metadata": {},
   "outputs": [],
   "source": []
  }
 ],
 "metadata": {
  "kernelspec": {
   "display_name": "Python 3",
   "language": "python",
   "name": "python3"
  },
  "language_info": {
   "codemirror_mode": {
    "name": "ipython",
    "version": 3
   },
   "file_extension": ".py",
   "mimetype": "text/x-python",
   "name": "python",
   "nbconvert_exporter": "python",
   "pygments_lexer": "ipython3",
   "version": "3.10.12"
  }
 },
 "nbformat": 4,
 "nbformat_minor": 5
}
