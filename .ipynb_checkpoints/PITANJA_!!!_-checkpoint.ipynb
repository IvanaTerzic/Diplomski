{
 "cells": [
  {
   "cell_type": "code",
   "execution_count": null,
   "id": "f541282d",
   "metadata": {},
   "outputs": [],
   "source": [
    "# Moje koncentracije su u ng/g, trebam i to uzeti u obzir \n",
    "da uskladi konc s toks konc "
   ]
  },
  {
   "cell_type": "code",
   "execution_count": null,
   "id": "1b924797",
   "metadata": {},
   "outputs": [],
   "source": [
    "# Ako cu uzimati više modela, trebam svaki detaljno pregledati i izabrati koju vrijednost toksičnosti uzeti? \n",
    "i da i ne, ima nacina, pogledaj si radove moje sa sedimentom i ribljom plazmom pa mi reci kako mozes skombat razne toksinocsti :) \n",
    "    \n",
    "# Ili samo gledam ukupni sumirani csv koji VEGA izbaci? - ovako je trenutno napravljeno, za prvu ruku\n",
    "to je najlakse za python"
   ]
  },
  {
   "cell_type": "code",
   "execution_count": null,
   "id": "d5f38829",
   "metadata": {},
   "outputs": [],
   "source": [
    "# trebam li u račun TU uzeti u obzir 'Odvagu'? Što mi to znači?\n",
    "TU ide s obzirom na konc u vodi, dobro prouci i razmisli sto TU znaci za ekotoksikologa"
   ]
  },
  {
   "cell_type": "code",
   "execution_count": null,
   "id": "894025ae",
   "metadata": {},
   "outputs": [],
   "source": [
    "# grupirati uzorke po rijekama?\n",
    "# koji bi bio najbolji način? srednja vrijednost? nema smisla sumirati ako nemam jednak broj uzoraka po rijeci?\n",
    "\n",
    "# radimo li posebnu kategoriju \"kupališta\"? --> ovo nema smisla imam jedan uzorak za svako kupalište\n",
    "\n",
    "Ajde razmisli drukcije - ti si ekotoksikolog.\n",
    "Koja pitanja imas i sto si zelis odgovorit?\n",
    "Napisi par mogucih hipoteza i posalji mi."
   ]
  },
  {
   "cell_type": "code",
   "execution_count": null,
   "id": "eb088d05",
   "metadata": {},
   "outputs": [],
   "source": [
    "# PCA\n",
    "\n",
    "# kako cu znati iz kojih izvora dolaze? To se mora pretpostaviti ili gledam unutar lokacije što bi mogao biti izvor?\n",
    "ovo cu prepustit tebi, jer zelim da naucis - pitanje je \"How to use PCA for source apportionment\" ili\n",
    "\"How to interpret PCA in source apportionment\"\n",
    "\n",
    "# trebam li PCA napraviti po lokacijama?\n",
    "ne bi zasad, ali ajde da vidimo sta ce se izdesavat "
   ]
  },
  {
   "cell_type": "code",
   "execution_count": null,
   "id": "b4757346",
   "metadata": {},
   "outputs": [],
   "source": [
    "# PITANJA - VEGA-QSAR\n",
    "\n",
    "# Koje točno modele iz VEGE trebam izabrati?\n",
    "nema pravila, vj je dobro npr fathead minnow, daphnia magna 96h, perzistentnost, bioconcentration ili bioaccumulation\n",
    "\n",
    "# Ovo što VEGA izbaci \"LOW reliability\", taj podatak je u redu?\n",
    "da, znaci da model nije vidio slicnu molkuelu, da puno ekstrapolira\n",
    "\n",
    "# Koju vrijednost toksičnosti uzimam? LC50 ili log? \n",
    "lc50 za TU npr, a za plotanje vj bolje log (razmisli sama zasto)\n",
    "\n",
    "# Što ako model izbaci NaN? Kako ih trebam riješiti?\n",
    "mislis vega? moze bit da smiles nije dobar, pa probaj naci drugi (pubchem npr canonical), ali ako nema nema, izostavit cemo"
   ]
  },
  {
   "cell_type": "code",
   "execution_count": null,
   "id": "f43c4831",
   "metadata": {},
   "outputs": [],
   "source": [
    "# GRUPIRANJE\n",
    "\n",
    "# u py fileu sam grupirala dodatno PCB-ove kako je Snježana navela u 4 grupe - indikatorski,monoortho, diortho i ostali\n",
    "# znaci li nam to? tj. hocemo li to negdje uzeti u obzir? \n",
    "# ili cemo samo grupirati PAH, PCB, OCP\n",
    "meni ne znaci nista, jer otrov je otrov bez obzira kako ga grupirali, pitaj nju jel bitno"
   ]
  },
  {
   "cell_type": "code",
   "execution_count": null,
   "id": "38efbf5a",
   "metadata": {},
   "outputs": [],
   "source": [
    "# koristim li deskriptore za nekakvu dodatnu analizu?\n",
    "Zasad ne"
   ]
  },
  {
   "cell_type": "code",
   "execution_count": null,
   "id": "685af183",
   "metadata": {},
   "outputs": [],
   "source": [
    "# NaN\n",
    "\n",
    "# bila je jedna NaN vrijednost u koloni PCB-189, zamijenila sam ju s 0.02\n",
    "Dobro je pitat onog tko je radio podatke, a ako ne, pitas za Limit of detection i to uvrstis, mora svaka odluka bit sljediva"
   ]
  },
  {
   "cell_type": "code",
   "execution_count": null,
   "id": "213fd8b7",
   "metadata": {},
   "outputs": [],
   "source": [
    "# radim li NMF i zašto?\n",
    "# Unmix i SOM?\n",
    "zasad ne, to su snjezanine ideje, mozda za publikaciju\n",
    "dovoljno je posla sto ces morat objasnit PCA"
   ]
  }
 ],
 "metadata": {
  "kernelspec": {
   "display_name": "Python 3",
   "language": "python",
   "name": "python3"
  },
  "language_info": {
   "codemirror_mode": {
    "name": "ipython",
    "version": 3
   },
   "file_extension": ".py",
   "mimetype": "text/x-python",
   "name": "python",
   "nbconvert_exporter": "python",
   "pygments_lexer": "ipython3",
   "version": "3.6.13"
  }
 },
 "nbformat": 4,
 "nbformat_minor": 5
}
