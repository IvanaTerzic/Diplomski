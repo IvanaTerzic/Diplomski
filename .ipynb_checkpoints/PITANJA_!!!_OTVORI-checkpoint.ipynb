{
 "cells": [
  {
   "cell_type": "code",
   "execution_count": 1,
   "id": "b4757346",
   "metadata": {},
   "outputs": [],
   "source": [
    "# PITANJA - VEGA-QSAR\n",
    "\n",
    "# Koje točno modele iz VEGE trebam izabrati?\n",
    "# Što ako model izbaci NaN? Kako ih trebam riješiti?\n",
    "# Ovo što VEGA izbaci \"LOW reliability\", taj podatak je u redu?\n",
    "# Moje koncentracije su u ng/g, trebam i to uzeti u obzir \n",
    "# Koju vrijednost toksičnosti uzimam? LC50 ili log? \n",
    "# Ako cu uzimati više modela, trebam svaki detaljno pregledati i izabrati koju vrijednost toksičnosti uzeti? \n",
    "# Ili samo gledam ukupni sumirani csv koji VEGA izbaci? - ovako je trenutno napravljeno, za prvu ruku"
   ]
  },
  {
   "cell_type": "code",
   "execution_count": 2,
   "id": "f43c4831",
   "metadata": {},
   "outputs": [],
   "source": [
    "# GRUPIRANJE\n",
    "\n",
    "# u py fileu sam grupirala dodatno PCB-ove kako je Snježana navela u 4 grupe - indikatorski,monoortho, diortho i ostali\n",
    "# znaci li nam to? tj. hocemo li to negdje uzeti u obzir? \n",
    "# ili cemo samo grupirati PAH, PCB, OCP"
   ]
  },
  {
   "cell_type": "code",
   "execution_count": 3,
   "id": "eb088d05",
   "metadata": {},
   "outputs": [],
   "source": [
    "# PCA\n",
    "\n",
    "# kako cu znati iz kojih izvora dolaze? To se mora pretpostaviti ili gledam unutar lokacije što bi mogao biti izvor?\n",
    "\n",
    "# trebam li PCA napraviti po lokacijama? Istra, Neretva i središnja hrv?"
   ]
  },
  {
   "cell_type": "code",
   "execution_count": 4,
   "id": "894025ae",
   "metadata": {},
   "outputs": [],
   "source": [
    "# grupirati uzorke po rijekama?\n",
    "# koji bi bio najbolji način? srednja vrijednost? nema smisla sumirati ako nemam jednak broj uzoraka po rijeci?\n",
    "\n",
    "# radimo li posebnu kategoriju \"kupališta\"?"
   ]
  },
  {
   "cell_type": "code",
   "execution_count": 5,
   "id": "38efbf5a",
   "metadata": {},
   "outputs": [],
   "source": [
    "# koristim li deskriptore za nekakvu dodatnu analizu?"
   ]
  },
  {
   "cell_type": "code",
   "execution_count": 6,
   "id": "685af183",
   "metadata": {},
   "outputs": [],
   "source": [
    "# NaN\n",
    "\n",
    "# bila je jedna NaN vrijednost u koloni PCB-189, zamijenila sam ju s 0.02"
   ]
  },
  {
   "cell_type": "code",
   "execution_count": 7,
   "id": "d5f38829",
   "metadata": {},
   "outputs": [],
   "source": [
    "# trebam li u račun TU uzeti u obzir 'Odvagu'? Što mi to znači?"
   ]
  },
  {
   "cell_type": "code",
   "execution_count": 1,
   "id": "213fd8b7",
   "metadata": {},
   "outputs": [],
   "source": [
    "# radim li NMF i zašto?\n",
    "# Unmix i SOM?"
   ]
  },
  {
   "cell_type": "code",
   "execution_count": null,
   "id": "1111999d",
   "metadata": {},
   "outputs": [],
   "source": [
    "# izomeri alfa-HCH, beta-HCH, gama-HCH\n",
    "# trebam li uzeti izomerni SMILES i tako onda provesti kroz VEGA? jer ovako je isti podatak toksičnosti za sva 3 izomera"
   ]
  }
 ],
 "metadata": {
  "kernelspec": {
   "display_name": "Python 3",
   "language": "python",
   "name": "python3"
  },
  "language_info": {
   "codemirror_mode": {
    "name": "ipython",
    "version": 3
   },
   "file_extension": ".py",
   "mimetype": "text/x-python",
   "name": "python",
   "nbconvert_exporter": "python",
   "pygments_lexer": "ipython3",
   "version": "3.6.13"
  }
 },
 "nbformat": 4,
 "nbformat_minor": 5
}
